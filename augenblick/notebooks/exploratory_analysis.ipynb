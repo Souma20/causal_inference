{
 "cells": [
  {
   "cell_type": "code",
   "execution_count": null,
   "metadata": {},
   "outputs": [
    {
     "ename": "ModuleNotFoundError",
     "evalue": "No module named 'data_loader'",
     "output_type": "error",
     "traceback": [
      "\u001b[31m---------------------------------------------------------------------------\u001b[39m",
      "\u001b[31mModuleNotFoundError\u001b[39m                       Traceback (most recent call last)",
      "\u001b[36mCell\u001b[39m\u001b[36m \u001b[39m\u001b[32mIn[1]\u001b[39m\u001b[32m, line 10\u001b[39m\n\u001b[32m      7\u001b[39m \u001b[38;5;66;03m# Append the project source directory so we can import modules\u001b[39;00m\n\u001b[32m      8\u001b[39m sys.path.append(os.path.join(os.getcwd(), \u001b[33m'\u001b[39m\u001b[33msrc\u001b[39m\u001b[33m'\u001b[39m, \u001b[33m'\u001b[39m\u001b[33mdata_processing\u001b[39m\u001b[33m'\u001b[39m))\n\u001b[32m---> \u001b[39m\u001b[32m10\u001b[39m \u001b[38;5;28;01mfrom\u001b[39;00m\u001b[38;5;250m \u001b[39m\u001b[34;01mdata_loader\u001b[39;00m\u001b[38;5;250m \u001b[39m\u001b[38;5;28;01mimport\u001b[39;00m load_dataset\n\u001b[32m     11\u001b[39m \u001b[38;5;28;01mfrom\u001b[39;00m\u001b[38;5;250m \u001b[39m\u001b[34;01mpreprocessing\u001b[39;00m\u001b[38;5;250m \u001b[39m\u001b[38;5;28;01mimport\u001b[39;00m preprocess_data\n\u001b[32m     13\u001b[39m \u001b[38;5;28mprint\u001b[39m(\u001b[33m\"\u001b[39m\u001b[33mLibraries and modules loaded.\u001b[39m\u001b[33m\"\u001b[39m)\n",
      "\u001b[31mModuleNotFoundError\u001b[39m: No module named 'data_loader'"
     ]
    }
   ],
   "source": [
    "# Import Libraries and Functions\n",
    "import sys\n",
    "import os\n",
    "import pandas as pd\n",
    "import numpy as np\n",
    "import matplotlib.pyplot as plt\n",
    "import seaborn as sns\n",
    "\n",
    "   # Set plot style\n",
    "plt.style.use('seaborn-v0_8-whitegrid')\n",
    "\n",
    "   # Append the project source directory to import modules\n",
    "module_path = os.path.abspath(os.path.join('..'))\n",
    "if module_path not in sys.path:\n",
    "    sys.path.append(module_path)\n",
    "\n",
    "   # Import custom modules\n",
    "from src.data_processing.data_loader import load_dataset, generate_synthetic_data\n",
    "from src.data_processing.preprocessing import preprocess_data, identify_confounders, balance_check\n",
    "from src.models.propensity_score import PropensityScoreModel\n",
    "from src.models.inverse_probability import InverseProbabilityWeightingModel\n",
    "from src.visualizations.plots import (\n",
    "    plot_outcome_by_treatment,\n",
    "    plot_confounder_distribution,\n",
    "    plot_treatment_effect,\n",
    "    plot_covariate_balance\n",
    "   )\n",
    "\n",
    "print(\"Libraries and modules loaded successfully.\")"
   ]
  },
  {
   "cell_type": "code",
   "execution_count": null,
   "metadata": {},
   "outputs": [],
   "source": [
    "# Generate synthetic data\n",
    "np.random.seed(42)  # For reproducibility\n",
    "\n",
    "   # Configure confounders\n",
    "confounders = {\n",
    "    'age': {'mean': 50, 'std': 10},\n",
    "    'blood_pressure': {'mean': 120, 'std': 10},\n",
    "    'bmi': {'mean': 25, 'std': 3}\n",
    "   }\n",
    "\n",
    "   # Set true treatment effect\n",
    "true_effect = 2.0\n",
    "\n",
    "   # Generate data\n",
    "data = generate_synthetic_data(\n",
    "    n_samples=1000,\n",
    "    binary_treatment=True,\n",
    "    confounders=confounders,\n",
    "    treatment_effect=true_effect,\n",
    "    random_state=42\n",
    "   )\n",
    "\n",
    "   # Display the first few rows\n",
    "print(f\"Generated synthetic data with {len(data)} samples and {data.shape[1]} features.\")\n",
    "data.head()"
   ]
  }
 ],
 "metadata": {
  "kernelspec": {
   "display_name": ".venv",
   "language": "python",
   "name": "python3"
  },
  "language_info": {
   "codemirror_mode": {
    "name": "ipython",
    "version": 3
   },
   "file_extension": ".py",
   "mimetype": "text/x-python",
   "name": "python",
   "nbconvert_exporter": "python",
   "pygments_lexer": "ipython3",
   "version": "3.12.4"
  }
 },
 "nbformat": 4,
 "nbformat_minor": 2
}
